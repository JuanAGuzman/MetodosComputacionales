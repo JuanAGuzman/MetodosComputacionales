{
 "cells": [
  {
   "cell_type": "markdown",
   "id": "featured-pollution",
   "metadata": {},
   "source": [
    "Parcial 2\n",
    "\n",
    "Diego Lopez 201820520\n",
    "Juan Guzman 201912804"
   ]
  },
  {
   "cell_type": "code",
   "execution_count": 1,
   "id": "static-virtue",
   "metadata": {},
   "outputs": [],
   "source": [
    "import numpy as np"
   ]
  },
  {
   "cell_type": "markdown",
   "id": "permanent-passage",
   "metadata": {},
   "source": [
    "Pregunta 1"
   ]
  },
  {
   "cell_type": "code",
   "execution_count": 15,
   "id": "stainless-pension",
   "metadata": {},
   "outputs": [
    {
     "name": "stdout",
     "output_type": "stream",
     "text": [
      "El valor de mu que se obtuvo fue  0.44071902104607624  y el de epsilon  0.9671511372205105\n"
     ]
    }
   ],
   "source": [
    "Data=np.array([10,20,5])\n",
    "bkg=np.array([6,15,10])\n",
    "Signal=np.array([2,10,3])\n",
    "\n",
    "def likelihood(s, b, N, c):\n",
    "    return np.prod([(np.exp(-(c[0]*s + c[1]*b)) * (c[0]*s + c[1]*b)**i *np.exp(-(c[1]-1)**2 / (2* 0.1**2))) / (np.math.factorial(i)*np.sqrt(2*np.pi* 0.1**2)) for i in range(N)])\n",
    "\n",
    "def metropolis_fit(s, b, N, f, dim, n):\n",
    "    muestras = np.zeros([dim,n])\n",
    "    old_theta = np.ones(dim)\n",
    "    old_prob = f(s, b, N, old_theta)\n",
    "    for i in range(n):\n",
    "        new_theta = old_theta + np.random.normal(0, 0.5, dim)\n",
    "        new_prob = f(s, b, N, new_theta)\n",
    "        aceptacion = new_prob / old_prob\n",
    "        if aceptacion > np.random.rand():\n",
    "            old_theta = np.abs(new_theta)\n",
    "            old_prob = new_prob\n",
    "        muestras[:,i] = old_theta\n",
    "    return muestras\n",
    "\n",
    "def calcular_parametros(samples,inicio,dimensiones):\n",
    "    return [np.mean(samples[i,inicio:]) for i in range(dimensiones)]\n",
    "\n",
    "muestras = [metropolis_fit(Signal[i], bkg[i], Data[i],likelihood, 2, 1000) for i in range(len(Data))]\n",
    "\n",
    "x = np.transpose([calcular_parametros(muestras[0], 10, 2) for i in range(len(Data))])\n",
    "mu = np.mean(x[0])\n",
    "epsilon = np.mean(x[1])\n",
    "print('El valor de mu que se obtuvo fue ', mu, ' y el de epsilon ', epsilon)"
   ]
  },
  {
   "cell_type": "markdown",
   "id": "polish-karma",
   "metadata": {},
   "source": [
    "A partir de lo obtenido se concluye que no existe vida extraterrestre debido a que el valor de mu obtenido no es lo suficientemente cercano a 1"
   ]
  },
  {
   "cell_type": "code",
   "execution_count": 3,
   "id": "cardiovascular-mission",
   "metadata": {},
   "outputs": [
    {
     "name": "stdout",
     "output_type": "stream",
     "text": [
      "El valor de la integral que se obtuvo fue  0.13012006148285055\n"
     ]
    }
   ],
   "source": [
    "def f(x):\n",
    "    return 2**(-7) *np.sum(np.power(x, 1), axis=1)**2\n",
    "\n",
    "def Integral(f, a, b, dim, n):\n",
    "    x = np.random.uniform(a, b, (n, dim))\n",
    "    return np.sum(f(x))* (b-a)**n/ n\n",
    "\n",
    "print('El valor de la integral que se obtuvo fue ', Integral(f, 0, 1, 8, 1000000))   "
   ]
  },
  {
   "cell_type": "code",
   "execution_count": null,
   "id": "superb-permission",
   "metadata": {},
   "outputs": [],
   "source": []
  }
 ],
 "metadata": {
  "kernelspec": {
   "display_name": "Python 3 (ipykernel)",
   "language": "python",
   "name": "python3"
  },
  "language_info": {
   "codemirror_mode": {
    "name": "ipython",
    "version": 3
   },
   "file_extension": ".py",
   "mimetype": "text/x-python",
   "name": "python",
   "nbconvert_exporter": "python",
   "pygments_lexer": "ipython3",
   "version": "3.10.6"
  }
 },
 "nbformat": 4,
 "nbformat_minor": 5
}
