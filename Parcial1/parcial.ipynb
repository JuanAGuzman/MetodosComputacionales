{
 "cells": [
  {
   "cell_type": "code",
   "execution_count": 61,
   "metadata": {
    "colab": {
     "base_uri": "https://localhost:8080/"
    },
    "id": "WMd_EBhJCDT3",
    "outputId": "622c4097-55a3-4b4e-806d-0422d6b123be"
   },
   "outputs": [
    {
     "name": "stdout",
     "output_type": "stream",
     "text": [
      "x*(-3*h + x)*(-2*h + x)*(-h + x)\n",
      "(30*h**3*x**2 - 110*h**2*x**3/3 + 15*h*x**4 - 2*x**5)/(24*h**5)\n"
     ]
    }
   ],
   "source": [
    "#Ejercicio 2\n",
    "\n",
    "import sympy as sym\n",
    "import math as m\n",
    "\n",
    "x = sym.Symbol('x', real=True)\n",
    "h = sym.Symbol('h', real=True)\n",
    "\n",
    "f = (x)*(x-h)*(x- (2*h))*(x-(3*h))\n",
    "\n",
    "print(f)\n",
    "\n",
    "print((-10 * sym.integrate(f,x)) / ((h**5) *m.factorial(4)))\n"
   ]
  },
  {
   "cell_type": "code",
   "execution_count": 37,
   "metadata": {
    "colab": {
     "base_uri": "https://localhost:8080/",
     "height": 296
    },
    "id": "Gq3D9uvDCDpm",
    "outputId": "113342f5-a3d5-409d-e6d9-3cbdb5647342"
   },
   "outputs": [
    {
     "name": "stdout",
     "output_type": "stream",
     "text": [
      "Con n=3 se tiene que la integral es igual a  0.48113017154002487155\n"
     ]
    },
    {
     "data": {
      "image/png": "[encoded data removed]",
      "text/plain": [
       "<Figure size 432x288 with 1 Axes>"
      ]
     },
     "metadata": {
      "needs_background": "light",
      "tags": []
     },
     "output_type": "display_data"
    }
   ],
   "source": [
    "#Ejercicio 3\n",
    "\n",
    "import sympy as sym\n",
    "import numpy as np\n",
    "import matplotlib.pyplot as plt\n",
    "\n",
    "def f(x):\n",
    "  x = [float(i) for i in x]\n",
    "  return (np.power(x,3))/(np.exp(x)-1)\n",
    "\n",
    "def peso(n):\n",
    "    x = sym.Symbol('x')\n",
    "    raices = sym.Poly(sym.laguerre(n, x)).all_roots()\n",
    "    x_i = [i.evalf(20) for i in raices]\n",
    "    w_i = [(i/((n+1)*sym.laguerre(n+1, i))**2).evalf(20) for i in raices]\n",
    "    return x_i, w_i\n",
    "\n",
    "def integral(f, n):\n",
    "  return sum(np.array(peso(n)[1])*f(np.array(peso(n)[0])))\n",
    "\n",
    "print('Con n=3 se tiene que la integral es igual a ', integral(f, 3))\n",
    "\n",
    "def e(f, n):\n",
    "  real = np.pi**4 / 15\n",
    "  return np.abs(integral(f, n)-real)/real\n",
    "\n",
    "n = np.arange(2, 10, 1)\n",
    "error = [e(f, i) for i in n]\n",
    "\n",
    "plt.scatter(n, error)\n",
    "plt.xlabel('n')\n",
    "plt.ylabel('error')\n",
    "plt.grid()\n",
    "plt.show()"
   ]
  }
 ],
 "metadata": {
  "colab": {
   "collapsed_sections": [],
   "name": "parcial.ipynb",
   "provenance": []
  },
  "kernelspec": {
   "display_name": "Python 3 (ipykernel)",
   "language": "python",
   "name": "python3"
  },
  "language_info": {
   "codemirror_mode": {
    "name": "ipython",
    "version": 3
   },
   "file_extension": ".py",
   "mimetype": "text/x-python",
   "name": "python",
   "nbconvert_exporter": "python",
   "pygments_lexer": "ipython3",
   "version": "3.10.6"
  }
 },
 "nbformat": 4,
 "nbformat_minor": 1
}
